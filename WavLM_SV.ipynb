{
  "nbformat": 4,
  "nbformat_minor": 0,
  "metadata": {
    "colab": {
      "provenance": []
    },
    "kernelspec": {
      "name": "python3",
      "display_name": "Python 3"
    },
    "language_info": {
      "name": "python"
    },
    "widgets": {
      "application/vnd.jupyter.widget-state+json": {
        "3791ef6af0f6428dbced1ee6f0ecc740": {
          "model_module": "@jupyter-widgets/controls",
          "model_name": "HBoxModel",
          "model_module_version": "1.5.0",
          "state": {
            "_view_name": "HBoxView",
            "_dom_classes": [],
            "_model_name": "HBoxModel",
            "_view_module": "@jupyter-widgets/controls",
            "_model_module_version": "1.5.0",
            "_view_count": null,
            "_view_module_version": "1.5.0",
            "box_style": "",
            "layout": "IPY_MODEL_68d36ea1d07f4c74b26050bba46cedb7",
            "_model_module": "@jupyter-widgets/controls",
            "children": [
              "IPY_MODEL_b843b73feb1c4d36872868eb956f7bf3",
              "IPY_MODEL_c03f4f4f131242eea655a3d6d9fdac6c",
              "IPY_MODEL_f7f102f2c2c3471c8ee874f1e6732de6"
            ]
          }
        },
        "68d36ea1d07f4c74b26050bba46cedb7": {
          "model_module": "@jupyter-widgets/base",
          "model_name": "LayoutModel",
          "model_module_version": "1.2.0",
          "state": {
            "_view_name": "LayoutView",
            "grid_template_rows": null,
            "right": null,
            "justify_content": null,
            "_view_module": "@jupyter-widgets/base",
            "overflow": null,
            "_model_module_version": "1.2.0",
            "_view_count": null,
            "flex_flow": null,
            "width": null,
            "min_width": null,
            "border": null,
            "align_items": null,
            "bottom": null,
            "_model_module": "@jupyter-widgets/base",
            "top": null,
            "grid_column": null,
            "overflow_y": null,
            "overflow_x": null,
            "grid_auto_flow": null,
            "grid_area": null,
            "grid_template_columns": null,
            "flex": null,
            "_model_name": "LayoutModel",
            "justify_items": null,
            "grid_row": null,
            "max_height": null,
            "align_content": null,
            "visibility": null,
            "align_self": null,
            "height": null,
            "min_height": null,
            "padding": null,
            "grid_auto_rows": null,
            "grid_gap": null,
            "max_width": null,
            "order": null,
            "_view_module_version": "1.2.0",
            "grid_template_areas": null,
            "object_position": null,
            "object_fit": null,
            "grid_auto_columns": null,
            "margin": null,
            "display": null,
            "left": null
          }
        },
        "b843b73feb1c4d36872868eb956f7bf3": {
          "model_module": "@jupyter-widgets/controls",
          "model_name": "HTMLModel",
          "model_module_version": "1.5.0",
          "state": {
            "_view_name": "HTMLView",
            "style": "IPY_MODEL_6d645a192cfa40f0abbdc30aceb3eac5",
            "_dom_classes": [],
            "description": "",
            "_model_name": "HTMLModel",
            "placeholder": "​",
            "_view_module": "@jupyter-widgets/controls",
            "_model_module_version": "1.5.0",
            "value": "Downloading: 100%",
            "_view_count": null,
            "_view_module_version": "1.5.0",
            "description_tooltip": null,
            "_model_module": "@jupyter-widgets/controls",
            "layout": "IPY_MODEL_ba3616cad0c94e0fa2e709fe57d45da0"
          }
        },
        "c03f4f4f131242eea655a3d6d9fdac6c": {
          "model_module": "@jupyter-widgets/controls",
          "model_name": "FloatProgressModel",
          "model_module_version": "1.5.0",
          "state": {
            "_view_name": "ProgressView",
            "style": "IPY_MODEL_8795fd382a5840b59d5d8015de06c228",
            "_dom_classes": [],
            "description": "",
            "_model_name": "FloatProgressModel",
            "bar_style": "success",
            "max": 58639,
            "_view_module": "@jupyter-widgets/controls",
            "_model_module_version": "1.5.0",
            "value": 58639,
            "_view_count": null,
            "_view_module_version": "1.5.0",
            "orientation": "horizontal",
            "min": 0,
            "description_tooltip": null,
            "_model_module": "@jupyter-widgets/controls",
            "layout": "IPY_MODEL_4e42e307f90447bab840017379e8b70f"
          }
        },
        "f7f102f2c2c3471c8ee874f1e6732de6": {
          "model_module": "@jupyter-widgets/controls",
          "model_name": "HTMLModel",
          "model_module_version": "1.5.0",
          "state": {
            "_view_name": "HTMLView",
            "style": "IPY_MODEL_f026a0d2be2044899bf07be1e4157f17",
            "_dom_classes": [],
            "description": "",
            "_model_name": "HTMLModel",
            "placeholder": "​",
            "_view_module": "@jupyter-widgets/controls",
            "_model_module_version": "1.5.0",
            "value": " 57.3k/57.3k [00:00&lt;00:00, 1.08MB/s]",
            "_view_count": null,
            "_view_module_version": "1.5.0",
            "description_tooltip": null,
            "_model_module": "@jupyter-widgets/controls",
            "layout": "IPY_MODEL_d84fcce51ea64b87af0ffcac81100cc9"
          }
        },
        "6d645a192cfa40f0abbdc30aceb3eac5": {
          "model_module": "@jupyter-widgets/controls",
          "model_name": "DescriptionStyleModel",
          "model_module_version": "1.5.0",
          "state": {
            "_view_name": "StyleView",
            "_model_name": "DescriptionStyleModel",
            "description_width": "",
            "_view_module": "@jupyter-widgets/base",
            "_model_module_version": "1.5.0",
            "_view_count": null,
            "_view_module_version": "1.2.0",
            "_model_module": "@jupyter-widgets/controls"
          }
        },
        "ba3616cad0c94e0fa2e709fe57d45da0": {
          "model_module": "@jupyter-widgets/base",
          "model_name": "LayoutModel",
          "model_module_version": "1.2.0",
          "state": {
            "_view_name": "LayoutView",
            "grid_template_rows": null,
            "right": null,
            "justify_content": null,
            "_view_module": "@jupyter-widgets/base",
            "overflow": null,
            "_model_module_version": "1.2.0",
            "_view_count": null,
            "flex_flow": null,
            "width": null,
            "min_width": null,
            "border": null,
            "align_items": null,
            "bottom": null,
            "_model_module": "@jupyter-widgets/base",
            "top": null,
            "grid_column": null,
            "overflow_y": null,
            "overflow_x": null,
            "grid_auto_flow": null,
            "grid_area": null,
            "grid_template_columns": null,
            "flex": null,
            "_model_name": "LayoutModel",
            "justify_items": null,
            "grid_row": null,
            "max_height": null,
            "align_content": null,
            "visibility": null,
            "align_self": null,
            "height": null,
            "min_height": null,
            "padding": null,
            "grid_auto_rows": null,
            "grid_gap": null,
            "max_width": null,
            "order": null,
            "_view_module_version": "1.2.0",
            "grid_template_areas": null,
            "object_position": null,
            "object_fit": null,
            "grid_auto_columns": null,
            "margin": null,
            "display": null,
            "left": null
          }
        },
        "8795fd382a5840b59d5d8015de06c228": {
          "model_module": "@jupyter-widgets/controls",
          "model_name": "ProgressStyleModel",
          "model_module_version": "1.5.0",
          "state": {
            "_view_name": "StyleView",
            "_model_name": "ProgressStyleModel",
            "description_width": "",
            "_view_module": "@jupyter-widgets/base",
            "_model_module_version": "1.5.0",
            "_view_count": null,
            "_view_module_version": "1.2.0",
            "bar_color": null,
            "_model_module": "@jupyter-widgets/controls"
          }
        },
        "4e42e307f90447bab840017379e8b70f": {
          "model_module": "@jupyter-widgets/base",
          "model_name": "LayoutModel",
          "model_module_version": "1.2.0",
          "state": {
            "_view_name": "LayoutView",
            "grid_template_rows": null,
            "right": null,
            "justify_content": null,
            "_view_module": "@jupyter-widgets/base",
            "overflow": null,
            "_model_module_version": "1.2.0",
            "_view_count": null,
            "flex_flow": null,
            "width": null,
            "min_width": null,
            "border": null,
            "align_items": null,
            "bottom": null,
            "_model_module": "@jupyter-widgets/base",
            "top": null,
            "grid_column": null,
            "overflow_y": null,
            "overflow_x": null,
            "grid_auto_flow": null,
            "grid_area": null,
            "grid_template_columns": null,
            "flex": null,
            "_model_name": "LayoutModel",
            "justify_items": null,
            "grid_row": null,
            "max_height": null,
            "align_content": null,
            "visibility": null,
            "align_self": null,
            "height": null,
            "min_height": null,
            "padding": null,
            "grid_auto_rows": null,
            "grid_gap": null,
            "max_width": null,
            "order": null,
            "_view_module_version": "1.2.0",
            "grid_template_areas": null,
            "object_position": null,
            "object_fit": null,
            "grid_auto_columns": null,
            "margin": null,
            "display": null,
            "left": null
          }
        },
        "f026a0d2be2044899bf07be1e4157f17": {
          "model_module": "@jupyter-widgets/controls",
          "model_name": "DescriptionStyleModel",
          "model_module_version": "1.5.0",
          "state": {
            "_view_name": "StyleView",
            "_model_name": "DescriptionStyleModel",
            "description_width": "",
            "_view_module": "@jupyter-widgets/base",
            "_model_module_version": "1.5.0",
            "_view_count": null,
            "_view_module_version": "1.2.0",
            "_model_module": "@jupyter-widgets/controls"
          }
        },
        "d84fcce51ea64b87af0ffcac81100cc9": {
          "model_module": "@jupyter-widgets/base",
          "model_name": "LayoutModel",
          "model_module_version": "1.2.0",
          "state": {
            "_view_name": "LayoutView",
            "grid_template_rows": null,
            "right": null,
            "justify_content": null,
            "_view_module": "@jupyter-widgets/base",
            "overflow": null,
            "_model_module_version": "1.2.0",
            "_view_count": null,
            "flex_flow": null,
            "width": null,
            "min_width": null,
            "border": null,
            "align_items": null,
            "bottom": null,
            "_model_module": "@jupyter-widgets/base",
            "top": null,
            "grid_column": null,
            "overflow_y": null,
            "overflow_x": null,
            "grid_auto_flow": null,
            "grid_area": null,
            "grid_template_columns": null,
            "flex": null,
            "_model_name": "LayoutModel",
            "justify_items": null,
            "grid_row": null,
            "max_height": null,
            "align_content": null,
            "visibility": null,
            "align_self": null,
            "height": null,
            "min_height": null,
            "padding": null,
            "grid_auto_rows": null,
            "grid_gap": null,
            "max_width": null,
            "order": null,
            "_view_module_version": "1.2.0",
            "grid_template_areas": null,
            "object_position": null,
            "object_fit": null,
            "grid_auto_columns": null,
            "margin": null,
            "display": null,
            "left": null
          }
        },
        "c0a9efea2f1a4668a9344e4ae7ad06ab": {
          "model_module": "@jupyter-widgets/controls",
          "model_name": "HBoxModel",
          "model_module_version": "1.5.0",
          "state": {
            "_view_name": "HBoxView",
            "_dom_classes": [],
            "_model_name": "HBoxModel",
            "_view_module": "@jupyter-widgets/controls",
            "_model_module_version": "1.5.0",
            "_view_count": null,
            "_view_module_version": "1.5.0",
            "box_style": "",
            "layout": "IPY_MODEL_e3283e3e03134842872fa08cbcec19cd",
            "_model_module": "@jupyter-widgets/controls",
            "children": [
              "IPY_MODEL_19277a4b95c242d7963d3bca3471b64f",
              "IPY_MODEL_bc3903844fb54d04a4fe606996b79889",
              "IPY_MODEL_01002a02ddfe4b96a215602e41ae6cda"
            ]
          }
        },
        "e3283e3e03134842872fa08cbcec19cd": {
          "model_module": "@jupyter-widgets/base",
          "model_name": "LayoutModel",
          "model_module_version": "1.2.0",
          "state": {
            "_view_name": "LayoutView",
            "grid_template_rows": null,
            "right": null,
            "justify_content": null,
            "_view_module": "@jupyter-widgets/base",
            "overflow": null,
            "_model_module_version": "1.2.0",
            "_view_count": null,
            "flex_flow": null,
            "width": null,
            "min_width": null,
            "border": null,
            "align_items": null,
            "bottom": null,
            "_model_module": "@jupyter-widgets/base",
            "top": null,
            "grid_column": null,
            "overflow_y": null,
            "overflow_x": null,
            "grid_auto_flow": null,
            "grid_area": null,
            "grid_template_columns": null,
            "flex": null,
            "_model_name": "LayoutModel",
            "justify_items": null,
            "grid_row": null,
            "max_height": null,
            "align_content": null,
            "visibility": null,
            "align_self": null,
            "height": null,
            "min_height": null,
            "padding": null,
            "grid_auto_rows": null,
            "grid_gap": null,
            "max_width": null,
            "order": null,
            "_view_module_version": "1.2.0",
            "grid_template_areas": null,
            "object_position": null,
            "object_fit": null,
            "grid_auto_columns": null,
            "margin": null,
            "display": null,
            "left": null
          }
        },
        "19277a4b95c242d7963d3bca3471b64f": {
          "model_module": "@jupyter-widgets/controls",
          "model_name": "HTMLModel",
          "model_module_version": "1.5.0",
          "state": {
            "_view_name": "HTMLView",
            "style": "IPY_MODEL_2b2546d808234e97a28d412d184ad141",
            "_dom_classes": [],
            "description": "",
            "_model_name": "HTMLModel",
            "placeholder": "​",
            "_view_module": "@jupyter-widgets/controls",
            "_model_module_version": "1.5.0",
            "value": "Downloading: 100%",
            "_view_count": null,
            "_view_module_version": "1.5.0",
            "description_tooltip": null,
            "_model_module": "@jupyter-widgets/controls",
            "layout": "IPY_MODEL_a56f8c5220f3449d97403ad0a80a94ae"
          }
        },
        "bc3903844fb54d04a4fe606996b79889": {
          "model_module": "@jupyter-widgets/controls",
          "model_name": "FloatProgressModel",
          "model_module_version": "1.5.0",
          "state": {
            "_view_name": "ProgressView",
            "style": "IPY_MODEL_b5acaa6e44c245909f8dd2e30f3df543",
            "_dom_classes": [],
            "description": "",
            "_model_name": "FloatProgressModel",
            "bar_style": "success",
            "max": 215,
            "_view_module": "@jupyter-widgets/controls",
            "_model_module_version": "1.5.0",
            "value": 215,
            "_view_count": null,
            "_view_module_version": "1.5.0",
            "orientation": "horizontal",
            "min": 0,
            "description_tooltip": null,
            "_model_module": "@jupyter-widgets/controls",
            "layout": "IPY_MODEL_e8cb5c80e0d7432ba5e8698e7411bbc3"
          }
        },
        "01002a02ddfe4b96a215602e41ae6cda": {
          "model_module": "@jupyter-widgets/controls",
          "model_name": "HTMLModel",
          "model_module_version": "1.5.0",
          "state": {
            "_view_name": "HTMLView",
            "style": "IPY_MODEL_9b9cd3df9ac947d59ef54e6533983612",
            "_dom_classes": [],
            "description": "",
            "_model_name": "HTMLModel",
            "placeholder": "​",
            "_view_module": "@jupyter-widgets/controls",
            "_model_module_version": "1.5.0",
            "value": " 215/215 [00:00&lt;00:00, 5.56kB/s]",
            "_view_count": null,
            "_view_module_version": "1.5.0",
            "description_tooltip": null,
            "_model_module": "@jupyter-widgets/controls",
            "layout": "IPY_MODEL_b66cdd2c5b2a4eea9faf75b5a6956407"
          }
        },
        "2b2546d808234e97a28d412d184ad141": {
          "model_module": "@jupyter-widgets/controls",
          "model_name": "DescriptionStyleModel",
          "model_module_version": "1.5.0",
          "state": {
            "_view_name": "StyleView",
            "_model_name": "DescriptionStyleModel",
            "description_width": "",
            "_view_module": "@jupyter-widgets/base",
            "_model_module_version": "1.5.0",
            "_view_count": null,
            "_view_module_version": "1.2.0",
            "_model_module": "@jupyter-widgets/controls"
          }
        },
        "a56f8c5220f3449d97403ad0a80a94ae": {
          "model_module": "@jupyter-widgets/base",
          "model_name": "LayoutModel",
          "model_module_version": "1.2.0",
          "state": {
            "_view_name": "LayoutView",
            "grid_template_rows": null,
            "right": null,
            "justify_content": null,
            "_view_module": "@jupyter-widgets/base",
            "overflow": null,
            "_model_module_version": "1.2.0",
            "_view_count": null,
            "flex_flow": null,
            "width": null,
            "min_width": null,
            "border": null,
            "align_items": null,
            "bottom": null,
            "_model_module": "@jupyter-widgets/base",
            "top": null,
            "grid_column": null,
            "overflow_y": null,
            "overflow_x": null,
            "grid_auto_flow": null,
            "grid_area": null,
            "grid_template_columns": null,
            "flex": null,
            "_model_name": "LayoutModel",
            "justify_items": null,
            "grid_row": null,
            "max_height": null,
            "align_content": null,
            "visibility": null,
            "align_self": null,
            "height": null,
            "min_height": null,
            "padding": null,
            "grid_auto_rows": null,
            "grid_gap": null,
            "max_width": null,
            "order": null,
            "_view_module_version": "1.2.0",
            "grid_template_areas": null,
            "object_position": null,
            "object_fit": null,
            "grid_auto_columns": null,
            "margin": null,
            "display": null,
            "left": null
          }
        },
        "b5acaa6e44c245909f8dd2e30f3df543": {
          "model_module": "@jupyter-widgets/controls",
          "model_name": "ProgressStyleModel",
          "model_module_version": "1.5.0",
          "state": {
            "_view_name": "StyleView",
            "_model_name": "ProgressStyleModel",
            "description_width": "",
            "_view_module": "@jupyter-widgets/base",
            "_model_module_version": "1.5.0",
            "_view_count": null,
            "_view_module_version": "1.2.0",
            "bar_color": null,
            "_model_module": "@jupyter-widgets/controls"
          }
        },
        "e8cb5c80e0d7432ba5e8698e7411bbc3": {
          "model_module": "@jupyter-widgets/base",
          "model_name": "LayoutModel",
          "model_module_version": "1.2.0",
          "state": {
            "_view_name": "LayoutView",
            "grid_template_rows": null,
            "right": null,
            "justify_content": null,
            "_view_module": "@jupyter-widgets/base",
            "overflow": null,
            "_model_module_version": "1.2.0",
            "_view_count": null,
            "flex_flow": null,
            "width": null,
            "min_width": null,
            "border": null,
            "align_items": null,
            "bottom": null,
            "_model_module": "@jupyter-widgets/base",
            "top": null,
            "grid_column": null,
            "overflow_y": null,
            "overflow_x": null,
            "grid_auto_flow": null,
            "grid_area": null,
            "grid_template_columns": null,
            "flex": null,
            "_model_name": "LayoutModel",
            "justify_items": null,
            "grid_row": null,
            "max_height": null,
            "align_content": null,
            "visibility": null,
            "align_self": null,
            "height": null,
            "min_height": null,
            "padding": null,
            "grid_auto_rows": null,
            "grid_gap": null,
            "max_width": null,
            "order": null,
            "_view_module_version": "1.2.0",
            "grid_template_areas": null,
            "object_position": null,
            "object_fit": null,
            "grid_auto_columns": null,
            "margin": null,
            "display": null,
            "left": null
          }
        },
        "9b9cd3df9ac947d59ef54e6533983612": {
          "model_module": "@jupyter-widgets/controls",
          "model_name": "DescriptionStyleModel",
          "model_module_version": "1.5.0",
          "state": {
            "_view_name": "StyleView",
            "_model_name": "DescriptionStyleModel",
            "description_width": "",
            "_view_module": "@jupyter-widgets/base",
            "_model_module_version": "1.5.0",
            "_view_count": null,
            "_view_module_version": "1.2.0",
            "_model_module": "@jupyter-widgets/controls"
          }
        },
        "b66cdd2c5b2a4eea9faf75b5a6956407": {
          "model_module": "@jupyter-widgets/base",
          "model_name": "LayoutModel",
          "model_module_version": "1.2.0",
          "state": {
            "_view_name": "LayoutView",
            "grid_template_rows": null,
            "right": null,
            "justify_content": null,
            "_view_module": "@jupyter-widgets/base",
            "overflow": null,
            "_model_module_version": "1.2.0",
            "_view_count": null,
            "flex_flow": null,
            "width": null,
            "min_width": null,
            "border": null,
            "align_items": null,
            "bottom": null,
            "_model_module": "@jupyter-widgets/base",
            "top": null,
            "grid_column": null,
            "overflow_y": null,
            "overflow_x": null,
            "grid_auto_flow": null,
            "grid_area": null,
            "grid_template_columns": null,
            "flex": null,
            "_model_name": "LayoutModel",
            "justify_items": null,
            "grid_row": null,
            "max_height": null,
            "align_content": null,
            "visibility": null,
            "align_self": null,
            "height": null,
            "min_height": null,
            "padding": null,
            "grid_auto_rows": null,
            "grid_gap": null,
            "max_width": null,
            "order": null,
            "_view_module_version": "1.2.0",
            "grid_template_areas": null,
            "object_position": null,
            "object_fit": null,
            "grid_auto_columns": null,
            "margin": null,
            "display": null,
            "left": null
          }
        },
        "ed4e92e861c045d4bd5a9f220900f0c9": {
          "model_module": "@jupyter-widgets/controls",
          "model_name": "HBoxModel",
          "model_module_version": "1.5.0",
          "state": {
            "_view_name": "HBoxView",
            "_dom_classes": [],
            "_model_name": "HBoxModel",
            "_view_module": "@jupyter-widgets/controls",
            "_model_module_version": "1.5.0",
            "_view_count": null,
            "_view_module_version": "1.5.0",
            "box_style": "",
            "layout": "IPY_MODEL_4eeaf6b9a96048d08ca533b7e4022f36",
            "_model_module": "@jupyter-widgets/controls",
            "children": [
              "IPY_MODEL_a2a719bcefba414b989454957a49a564",
              "IPY_MODEL_a97c6233c09b44cabe48d761d84c61ee",
              "IPY_MODEL_c37703d278184f21b9e0afc94c108024"
            ]
          }
        },
        "4eeaf6b9a96048d08ca533b7e4022f36": {
          "model_module": "@jupyter-widgets/base",
          "model_name": "LayoutModel",
          "model_module_version": "1.2.0",
          "state": {
            "_view_name": "LayoutView",
            "grid_template_rows": null,
            "right": null,
            "justify_content": null,
            "_view_module": "@jupyter-widgets/base",
            "overflow": null,
            "_model_module_version": "1.2.0",
            "_view_count": null,
            "flex_flow": null,
            "width": null,
            "min_width": null,
            "border": null,
            "align_items": null,
            "bottom": null,
            "_model_module": "@jupyter-widgets/base",
            "top": null,
            "grid_column": null,
            "overflow_y": null,
            "overflow_x": null,
            "grid_auto_flow": null,
            "grid_area": null,
            "grid_template_columns": null,
            "flex": null,
            "_model_name": "LayoutModel",
            "justify_items": null,
            "grid_row": null,
            "max_height": null,
            "align_content": null,
            "visibility": null,
            "align_self": null,
            "height": null,
            "min_height": null,
            "padding": null,
            "grid_auto_rows": null,
            "grid_gap": null,
            "max_width": null,
            "order": null,
            "_view_module_version": "1.2.0",
            "grid_template_areas": null,
            "object_position": null,
            "object_fit": null,
            "grid_auto_columns": null,
            "margin": null,
            "display": null,
            "left": null
          }
        },
        "a2a719bcefba414b989454957a49a564": {
          "model_module": "@jupyter-widgets/controls",
          "model_name": "HTMLModel",
          "model_module_version": "1.5.0",
          "state": {
            "_view_name": "HTMLView",
            "style": "IPY_MODEL_8c4100200f11431f98caabc28e46d2ec",
            "_dom_classes": [],
            "description": "",
            "_model_name": "HTMLModel",
            "placeholder": "​",
            "_view_module": "@jupyter-widgets/controls",
            "_model_module_version": "1.5.0",
            "value": "Downloading: 100%",
            "_view_count": null,
            "_view_module_version": "1.5.0",
            "description_tooltip": null,
            "_model_module": "@jupyter-widgets/controls",
            "layout": "IPY_MODEL_830e1be82eeb456fa037e7e2994a84fc"
          }
        },
        "a97c6233c09b44cabe48d761d84c61ee": {
          "model_module": "@jupyter-widgets/controls",
          "model_name": "FloatProgressModel",
          "model_module_version": "1.5.0",
          "state": {
            "_view_name": "ProgressView",
            "style": "IPY_MODEL_cd78a4c10fca4619b424d495b6cf9eb5",
            "_dom_classes": [],
            "description": "",
            "_model_name": "FloatProgressModel",
            "bar_style": "success",
            "max": 404547053,
            "_view_module": "@jupyter-widgets/controls",
            "_model_module_version": "1.5.0",
            "value": 404547053,
            "_view_count": null,
            "_view_module_version": "1.5.0",
            "orientation": "horizontal",
            "min": 0,
            "description_tooltip": null,
            "_model_module": "@jupyter-widgets/controls",
            "layout": "IPY_MODEL_8bb91c53c3e94e3c9d1e5d2ce69b22cd"
          }
        },
        "c37703d278184f21b9e0afc94c108024": {
          "model_module": "@jupyter-widgets/controls",
          "model_name": "HTMLModel",
          "model_module_version": "1.5.0",
          "state": {
            "_view_name": "HTMLView",
            "style": "IPY_MODEL_d57fc9a07d8c499abdcadbfd23aab638",
            "_dom_classes": [],
            "description": "",
            "_model_name": "HTMLModel",
            "placeholder": "​",
            "_view_module": "@jupyter-widgets/controls",
            "_model_module_version": "1.5.0",
            "value": " 386M/386M [00:13&lt;00:00, 32.3MB/s]",
            "_view_count": null,
            "_view_module_version": "1.5.0",
            "description_tooltip": null,
            "_model_module": "@jupyter-widgets/controls",
            "layout": "IPY_MODEL_9ac0d9807b4b46d98a965b7d29adb715"
          }
        },
        "8c4100200f11431f98caabc28e46d2ec": {
          "model_module": "@jupyter-widgets/controls",
          "model_name": "DescriptionStyleModel",
          "model_module_version": "1.5.0",
          "state": {
            "_view_name": "StyleView",
            "_model_name": "DescriptionStyleModel",
            "description_width": "",
            "_view_module": "@jupyter-widgets/base",
            "_model_module_version": "1.5.0",
            "_view_count": null,
            "_view_module_version": "1.2.0",
            "_model_module": "@jupyter-widgets/controls"
          }
        },
        "830e1be82eeb456fa037e7e2994a84fc": {
          "model_module": "@jupyter-widgets/base",
          "model_name": "LayoutModel",
          "model_module_version": "1.2.0",
          "state": {
            "_view_name": "LayoutView",
            "grid_template_rows": null,
            "right": null,
            "justify_content": null,
            "_view_module": "@jupyter-widgets/base",
            "overflow": null,
            "_model_module_version": "1.2.0",
            "_view_count": null,
            "flex_flow": null,
            "width": null,
            "min_width": null,
            "border": null,
            "align_items": null,
            "bottom": null,
            "_model_module": "@jupyter-widgets/base",
            "top": null,
            "grid_column": null,
            "overflow_y": null,
            "overflow_x": null,
            "grid_auto_flow": null,
            "grid_area": null,
            "grid_template_columns": null,
            "flex": null,
            "_model_name": "LayoutModel",
            "justify_items": null,
            "grid_row": null,
            "max_height": null,
            "align_content": null,
            "visibility": null,
            "align_self": null,
            "height": null,
            "min_height": null,
            "padding": null,
            "grid_auto_rows": null,
            "grid_gap": null,
            "max_width": null,
            "order": null,
            "_view_module_version": "1.2.0",
            "grid_template_areas": null,
            "object_position": null,
            "object_fit": null,
            "grid_auto_columns": null,
            "margin": null,
            "display": null,
            "left": null
          }
        },
        "cd78a4c10fca4619b424d495b6cf9eb5": {
          "model_module": "@jupyter-widgets/controls",
          "model_name": "ProgressStyleModel",
          "model_module_version": "1.5.0",
          "state": {
            "_view_name": "StyleView",
            "_model_name": "ProgressStyleModel",
            "description_width": "",
            "_view_module": "@jupyter-widgets/base",
            "_model_module_version": "1.5.0",
            "_view_count": null,
            "_view_module_version": "1.2.0",
            "bar_color": null,
            "_model_module": "@jupyter-widgets/controls"
          }
        },
        "8bb91c53c3e94e3c9d1e5d2ce69b22cd": {
          "model_module": "@jupyter-widgets/base",
          "model_name": "LayoutModel",
          "model_module_version": "1.2.0",
          "state": {
            "_view_name": "LayoutView",
            "grid_template_rows": null,
            "right": null,
            "justify_content": null,
            "_view_module": "@jupyter-widgets/base",
            "overflow": null,
            "_model_module_version": "1.2.0",
            "_view_count": null,
            "flex_flow": null,
            "width": null,
            "min_width": null,
            "border": null,
            "align_items": null,
            "bottom": null,
            "_model_module": "@jupyter-widgets/base",
            "top": null,
            "grid_column": null,
            "overflow_y": null,
            "overflow_x": null,
            "grid_auto_flow": null,
            "grid_area": null,
            "grid_template_columns": null,
            "flex": null,
            "_model_name": "LayoutModel",
            "justify_items": null,
            "grid_row": null,
            "max_height": null,
            "align_content": null,
            "visibility": null,
            "align_self": null,
            "height": null,
            "min_height": null,
            "padding": null,
            "grid_auto_rows": null,
            "grid_gap": null,
            "max_width": null,
            "order": null,
            "_view_module_version": "1.2.0",
            "grid_template_areas": null,
            "object_position": null,
            "object_fit": null,
            "grid_auto_columns": null,
            "margin": null,
            "display": null,
            "left": null
          }
        },
        "d57fc9a07d8c499abdcadbfd23aab638": {
          "model_module": "@jupyter-widgets/controls",
          "model_name": "DescriptionStyleModel",
          "model_module_version": "1.5.0",
          "state": {
            "_view_name": "StyleView",
            "_model_name": "DescriptionStyleModel",
            "description_width": "",
            "_view_module": "@jupyter-widgets/base",
            "_model_module_version": "1.5.0",
            "_view_count": null,
            "_view_module_version": "1.2.0",
            "_model_module": "@jupyter-widgets/controls"
          }
        },
        "9ac0d9807b4b46d98a965b7d29adb715": {
          "model_module": "@jupyter-widgets/base",
          "model_name": "LayoutModel",
          "model_module_version": "1.2.0",
          "state": {
            "_view_name": "LayoutView",
            "grid_template_rows": null,
            "right": null,
            "justify_content": null,
            "_view_module": "@jupyter-widgets/base",
            "overflow": null,
            "_model_module_version": "1.2.0",
            "_view_count": null,
            "flex_flow": null,
            "width": null,
            "min_width": null,
            "border": null,
            "align_items": null,
            "bottom": null,
            "_model_module": "@jupyter-widgets/base",
            "top": null,
            "grid_column": null,
            "overflow_y": null,
            "overflow_x": null,
            "grid_auto_flow": null,
            "grid_area": null,
            "grid_template_columns": null,
            "flex": null,
            "_model_name": "LayoutModel",
            "justify_items": null,
            "grid_row": null,
            "max_height": null,
            "align_content": null,
            "visibility": null,
            "align_self": null,
            "height": null,
            "min_height": null,
            "padding": null,
            "grid_auto_rows": null,
            "grid_gap": null,
            "max_width": null,
            "order": null,
            "_view_module_version": "1.2.0",
            "grid_template_areas": null,
            "object_position": null,
            "object_fit": null,
            "grid_auto_columns": null,
            "margin": null,
            "display": null,
            "left": null
          }
        }
      }
    }
  },
  "cells": [
    {
      "cell_type": "code",
      "source": [
        "!pip install gradio"
      ],
      "metadata": {
        "id": "iG2obSbk8pbD"
      },
      "execution_count": null,
      "outputs": []
    },
    {
      "cell_type": "code",
      "source": [
        "!pip install transformers"
      ],
      "metadata": {
        "id": "SM-cqxRC8x7P"
      },
      "execution_count": null,
      "outputs": []
    },
    {
      "cell_type": "code",
      "execution_count": null,
      "metadata": {
        "id": "pPV-SF1g8JIw"
      },
      "outputs": [],
      "source": [
        "import gradio as gr\n",
        "import torch\n",
        "from torchaudio.sox_effects import apply_effects_file\n",
        "from transformers import AutoFeatureExtractor, AutoModelForAudioXVector\n",
        "device = torch.device(\"cuda\" if torch.cuda.is_available() else \"cpu\")"
      ]
    },
    {
      "cell_type": "code",
      "source": [
        "EFFECTS = [\n",
        "    [\"remix\", \"-\"],\n",
        "    [\"channels\", \"1\"],\n",
        "    [\"rate\", \"16000\"],\n",
        "    [\"gain\", \"-1.0\"],\n",
        "    [\"silence\", \"1\", \"0.1\", \"0.1%\", \"-1\", \"0.1\", \"0.1%\"],\n",
        "    [\"trim\", \"0\", \"10\"],\n",
        "]\n",
        "THRESHOLD = 0.85\n",
        "model_name = \"microsoft/wavlm-base-plus-sv\"\n",
        "feature_extractor = AutoFeatureExtractor.from_pretrained(model_name)\n",
        "model = AutoModelForAudioXVector.from_pretrained(model_name).to(device)\n",
        "cosine_sim = torch.nn.CosineSimilarity(dim=-1)"
      ],
      "metadata": {
        "colab": {
          "base_uri": "https://localhost:8080/",
          "height": 113,
          "referenced_widgets": [
            "3791ef6af0f6428dbced1ee6f0ecc740",
            "68d36ea1d07f4c74b26050bba46cedb7",
            "b843b73feb1c4d36872868eb956f7bf3",
            "c03f4f4f131242eea655a3d6d9fdac6c",
            "f7f102f2c2c3471c8ee874f1e6732de6",
            "6d645a192cfa40f0abbdc30aceb3eac5",
            "ba3616cad0c94e0fa2e709fe57d45da0",
            "8795fd382a5840b59d5d8015de06c228",
            "4e42e307f90447bab840017379e8b70f",
            "f026a0d2be2044899bf07be1e4157f17",
            "d84fcce51ea64b87af0ffcac81100cc9",
            "c0a9efea2f1a4668a9344e4ae7ad06ab",
            "e3283e3e03134842872fa08cbcec19cd",
            "19277a4b95c242d7963d3bca3471b64f",
            "bc3903844fb54d04a4fe606996b79889",
            "01002a02ddfe4b96a215602e41ae6cda",
            "2b2546d808234e97a28d412d184ad141",
            "a56f8c5220f3449d97403ad0a80a94ae",
            "b5acaa6e44c245909f8dd2e30f3df543",
            "e8cb5c80e0d7432ba5e8698e7411bbc3",
            "9b9cd3df9ac947d59ef54e6533983612",
            "b66cdd2c5b2a4eea9faf75b5a6956407",
            "ed4e92e861c045d4bd5a9f220900f0c9",
            "4eeaf6b9a96048d08ca533b7e4022f36",
            "a2a719bcefba414b989454957a49a564",
            "a97c6233c09b44cabe48d761d84c61ee",
            "c37703d278184f21b9e0afc94c108024",
            "8c4100200f11431f98caabc28e46d2ec",
            "830e1be82eeb456fa037e7e2994a84fc",
            "cd78a4c10fca4619b424d495b6cf9eb5",
            "8bb91c53c3e94e3c9d1e5d2ce69b22cd",
            "d57fc9a07d8c499abdcadbfd23aab638",
            "9ac0d9807b4b46d98a965b7d29adb715"
          ]
        },
        "id": "-GhYBihY9FHL",
        "outputId": "5075858f-0a5c-4a6c-d0ee-7a3ccddd0b4e"
      },
      "execution_count": null,
      "outputs": [
        {
          "output_type": "display_data",
          "data": {
            "application/vnd.jupyter.widget-view+json": {
              "model_id": "3791ef6af0f6428dbced1ee6f0ecc740",
              "version_minor": 0,
              "version_major": 2
            },
            "text/plain": [
              "Downloading:   0%|          | 0.00/57.3k [00:00<?, ?B/s]"
            ]
          },
          "metadata": {}
        },
        {
          "output_type": "display_data",
          "data": {
            "application/vnd.jupyter.widget-view+json": {
              "model_id": "c0a9efea2f1a4668a9344e4ae7ad06ab",
              "version_minor": 0,
              "version_major": 2
            },
            "text/plain": [
              "Downloading:   0%|          | 0.00/215 [00:00<?, ?B/s]"
            ]
          },
          "metadata": {}
        },
        {
          "output_type": "display_data",
          "data": {
            "application/vnd.jupyter.widget-view+json": {
              "model_id": "ed4e92e861c045d4bd5a9f220900f0c9",
              "version_minor": 0,
              "version_major": 2
            },
            "text/plain": [
              "Downloading:   0%|          | 0.00/386M [00:00<?, ?B/s]"
            ]
          },
          "metadata": {}
        }
      ]
    },
    {
      "cell_type": "code",
      "source": [
        "def is_acceptance(my_score):\n",
        "  status = False\n",
        "  if my_score >= 85:\n",
        "    status = True\n",
        "  return status"
      ],
      "metadata": {
        "id": "iuQmKD4lDEWO"
      },
      "execution_count": null,
      "outputs": []
    },
    {
      "cell_type": "code",
      "source": [
        "def similarity_fn(path1, path2):\n",
        "    if not (path1 and path2):\n",
        "        return '<b style=\"color:red\">ERROR: Please record audio for *both* speakers!</b>'\n",
        "    wav1, _ = apply_effects_file(path1, EFFECTS)\n",
        "    wav2, _ = apply_effects_file(path2, EFFECTS)\n",
        "    print(wav1.shape, wav2.shape)\n",
        "    input1 = feature_extractor(wav1.squeeze(0), return_tensors=\"pt\", sampling_rate=16000).input_values.to(device)\n",
        "    input2 = feature_extractor(wav2.squeeze(0), return_tensors=\"pt\", sampling_rate=16000).input_values.to(device)\n",
        "    with torch.no_grad():\n",
        "        emb1 = model(input1).embeddings\n",
        "        emb2 = model(input2).embeddings\n",
        "    emb1 = torch.nn.functional.normalize(emb1, dim=-1).cpu()\n",
        "    emb2 = torch.nn.functional.normalize(emb2, dim=-1).cpu()\n",
        "    similarity = cosine_sim(emb1, emb2).numpy()[0]\n",
        "    if similarity >= THRESHOLD:\n",
        "        #output = OUTPUT_OK.format(similarity * 100)\n",
        "        output = is_acceptance(similarity * 100)\n",
        "    else:\n",
        "        #output = OUTPUT_FAIL.format(similarity * 100)\n",
        "        output = is_acceptance(similarity * 100)\n",
        "    return output\n"
      ],
      "metadata": {
        "id": "fzQaw-Gp9TOd"
      },
      "execution_count": null,
      "outputs": []
    },
    {
      "cell_type": "code",
      "source": [
        "def get_similarity_score(path1, path2):\n",
        "    if not (path1 and path2):\n",
        "        return '<b style=\"color:red\">ERROR: Please record audio for *both* speakers!</b>'\n",
        "    wav1, _ = apply_effects_file(path1, EFFECTS)\n",
        "    wav2, _ = apply_effects_file(path2, EFFECTS)\n",
        "    print(wav1.shape, wav2.shape)\n",
        "    input1 = feature_extractor(wav1.squeeze(0), return_tensors=\"pt\", sampling_rate=16000).input_values.to(device)\n",
        "    input2 = feature_extractor(wav2.squeeze(0), return_tensors=\"pt\", sampling_rate=16000).input_values.to(device)\n",
        "    with torch.no_grad():\n",
        "        emb1 = model(input1).embeddings\n",
        "        emb2 = model(input2).embeddings\n",
        "    emb1 = torch.nn.functional.normalize(emb1, dim=-1).cpu()\n",
        "    emb2 = torch.nn.functional.normalize(emb2, dim=-1).cpu()\n",
        "    similarity = cosine_sim(emb1, emb2).numpy()[0]\n",
        "    #output = similarity * 100\n",
        "    output = similarity\n",
        "    return output"
      ],
      "metadata": {
        "id": "wKPyw0aE12af"
      },
      "execution_count": null,
      "outputs": []
    },
    {
      "cell_type": "code",
      "source": [
        "ls"
      ],
      "metadata": {
        "colab": {
          "base_uri": "https://localhost:8080/"
        },
        "id": "0eqY21Ao-Ib6",
        "outputId": "95bbbe44-2c17-44b6-9efd-ead35b9195b5"
      },
      "execution_count": null,
      "outputs": [
        {
          "output_type": "stream",
          "name": "stdout",
          "text": [
            "\u001b[0m\u001b[01;34mdrive\u001b[0m/  \u001b[01;34msample_data\u001b[0m/\n"
          ]
        }
      ]
    },
    {
      "cell_type": "markdown",
      "source": [
        "create scores in file"
      ],
      "metadata": {
        "id": "lzPMIJcjyD3d"
      }
    },
    {
      "cell_type": "code",
      "source": [
        "\n",
        "import os\n",
        "labels = [] #true target or nontarget\n",
        "predictions = [] #predict of WavLM\n",
        "data_path =\"/content/drive/MyDrive/Proposal_Files/Implementation/wavlm-app/my_vox_data_v2\"\n",
        "scores = open(f\"{data_path}/scores.txt\", \"a\")\n",
        "scores.truncate(0)\n",
        "test_trials = open(f\"test_trials_v2.txt\", \"a\")\n",
        "test_trials.truncate(0)\n",
        "\n",
        "num_spk = 4\n",
        "num_utt =6\n",
        "\n",
        "for spk_id in range(1,num_spk+1):\n",
        "    for utt_id in range(1,num_utt+1):\n",
        "        cd_id = int((1+spk_id) / 2)\n",
        "        path = os.path.abspath(f\"{data_path}/spk{spk_id:03}/utt_{spk_id:03}F{utt_id:02}.wav\")\n",
        "        #ffmpeg_cmd = \"ffmpeg -ss 0 -i {file_path} -t 60 -f wav -ac 1 -ar 8k -acodec pcm_s16le - |\"\n",
        "        #extended_filename = ffmpeg_cmd.format(file_path = path)\n",
        "        path_cmd =\"{file_path}\"\n",
        "        extended_filename = path_cmd.format(file_path = path)\n",
        "        utterance_id = f\"utt-{spk_id:03}F{utt_id:02}\"\n",
        "        speaker_id = f\"spk-{spk_id:03}\"\n",
        "        #fmajor_wav_scp.write(f\"{utterance_id} {extended_filename}\\n\")    \n",
        "        #fmajor_utt2spk.write(f\"{utterance_id} {speaker_id}\\n\")  \n",
        "        if utt_id==1:\n",
        "            #fenroll_wav_scp.write(f\"{utterance_id} {extended_filename}\\n\") \n",
        "            #enroll_wavscp.write(f\"{utterance_id} {extended_filename}\\n\")    \n",
        "            #enroll_utt2spk.write(f\"{utterance_id} {speaker_id}\\n\")\n",
        "            path_enroll_utterance = extended_filename\n",
        "        elif utt_id==2:\n",
        "            #ftest_wav_scp.write(f\"{utterance_id} {extended_filename}\\n\")  \n",
        "            #test_wavscp.write(f\"{utterance_id} {extended_filename}\\n\")   \n",
        "            #test_utt2spk.write(f\"{utterance_id} {speaker_id}\\n\")\n",
        "            #path_test_utterance = extended_filename\n",
        "            for spk_id_trials in range(1,num_spk+1):\n",
        "                for utt_id_trials in range(2,num_utt+1):\n",
        "                  path2 = os.path.abspath(f\"{data_path}/spk{spk_id_trials:03}/utt_{spk_id_trials:03}F{utt_id_trials:02}.wav\")\n",
        "                  extended_filename2 = path_cmd.format(file_path = path2)\n",
        "                  path_test_utterance = extended_filename2\n",
        "                  utterance_id_trials = f\"utt_{spk_id_trials:03}F{utt_id_trials:02}\"\n",
        "                  test_trials.write(f\"{speaker_id} {utterance_id_trials} {'target' if spk_id_trials==spk_id else 'nontarget'}\\n\")\n",
        "                  if spk_id_trials==spk_id:\n",
        "                    labels.append(1)\n",
        "                  else:\n",
        "                    labels.append(0)\n",
        "                  score =  get_similarity_score(path_enroll_utterance,path_test_utterance)\n",
        "                  predictions.append(score)\n",
        "                  scores.write(f\"{speaker_id} {utterance_id_trials} {score}\\n\")\n",
        "\n",
        "#enroll_utt2spk.close()\n",
        "#test_utt2spk.close()\n",
        "test_trials.close()\n",
        "#test_wavscp.close()\n",
        "#enroll_wavscp.close()\n",
        "scores.close()"
      ],
      "metadata": {
        "id": "imIzj7Tgt67Q"
      },
      "execution_count": null,
      "outputs": []
    },
    {
      "cell_type": "code",
      "source": [
        "#import os\n",
        "labels = [] #true target or nontarget\n",
        "predictions = [] #predict of WavLM\n",
        "data_path =\"/content/drive/MyDrive/Proposal_Files/Implementation/wavlm-app/my_vox_data_v2\"\n",
        "scores = open(f\"{data_path}/scores.txt\", \"a\")\n",
        "scores.truncate(0)\n",
        "test_trials = open(f\"{data_path}/test_trials_v2.txt\", \"a\")\n",
        "test_trials.truncate(0)\n",
        "\n",
        "num_spk = 4\n",
        "num_utt =6\n",
        "\n",
        "for spk_id in range(1,num_spk+1):\n",
        "    for utt_id in range(1,num_utt+1):\n",
        "        #cd_id = int((1+spk_id) / 2)\n",
        "        path = os.path.abspath(f\"{data_path}/spk{spk_id:03}/utt_{spk_id:03}F{utt_id:02}.wav\")\n",
        "        path_cmd =\"{file_path}\"\n",
        "        extended_filename = path_cmd.format(file_path = path)\n",
        "        utterance_id = f\"utt-{spk_id:03}F{utt_id:02}\"\n",
        "        speaker_id = f\"spk-{spk_id:03}\"  \n",
        "        if utt_id==1:\n",
        "            path_enroll_utterance = extended_filename\n",
        "        elif utt_id==2:\n",
        "            for spk_id_trials in range(1,num_spk+1):\n",
        "                for utt_id_trials in range(2,num_utt+1):\n",
        "                  path2 = os.path.abspath(f\"{data_path}/spk{spk_id_trials:03}/utt_{spk_id_trials:03}F{utt_id_trials:02}.wav\")\n",
        "                  extended_filename2 = path_cmd.format(file_path = path2)\n",
        "                  path_test_utterance = extended_filename2\n",
        "                  utterance_id_trials = f\"utt_{spk_id_trials:03}F{utt_id_trials:02}\"\n",
        "                  test_trials.write(f\"{speaker_id} {utterance_id_trials} {'target' if spk_id_trials==spk_id else 'nontarget'}\\n\")\n",
        "                  if spk_id_trials==spk_id:\n",
        "                    labels.append(1)\n",
        "                  else:\n",
        "                    labels.append(0)\n",
        "                  score =  get_similarity_score(path_enroll_utterance,path_test_utterance)\n",
        "                  predictions.append(score)\n",
        "                  scores.write(f\"{speaker_id} {utterance_id_trials} {score}\\n\")\n",
        "\n",
        "test_trials.close()\n",
        "scores.close()"
      ],
      "metadata": {
        "colab": {
          "base_uri": "https://localhost:8080/"
        },
        "id": "ExVz-Tybdu1f",
        "outputId": "ff2eef4b-607b-4e65-c71f-a64b70826426"
      },
      "execution_count": null,
      "outputs": [
        {
          "output_type": "stream",
          "name": "stdout",
          "text": [
            "torch.Size([1, 110542]) torch.Size([1, 67572])\n",
            "torch.Size([1, 110542]) torch.Size([1, 160000])\n",
            "torch.Size([1, 110542]) torch.Size([1, 76797])\n",
            "torch.Size([1, 110542]) torch.Size([1, 160000])\n",
            "torch.Size([1, 110542]) torch.Size([1, 78844])\n",
            "torch.Size([1, 110542]) torch.Size([1, 75747])\n",
            "torch.Size([1, 110542]) torch.Size([1, 160000])\n",
            "torch.Size([1, 110542]) torch.Size([1, 160000])\n",
            "torch.Size([1, 110542]) torch.Size([1, 75759])\n",
            "torch.Size([1, 110542]) torch.Size([1, 160000])\n",
            "torch.Size([1, 110542]) torch.Size([1, 69629])\n",
            "torch.Size([1, 110542]) torch.Size([1, 66560])\n",
            "torch.Size([1, 110542]) torch.Size([1, 102386])\n",
            "torch.Size([1, 110542]) torch.Size([1, 71679])\n",
            "torch.Size([1, 110542]) torch.Size([1, 74747])\n",
            "torch.Size([1, 110542]) torch.Size([1, 132096])\n",
            "torch.Size([1, 110542]) torch.Size([1, 64512])\n",
            "torch.Size([1, 110542]) torch.Size([1, 106496])\n",
            "torch.Size([1, 110542]) torch.Size([1, 131071])\n",
            "torch.Size([1, 110542]) torch.Size([1, 70656])\n",
            "torch.Size([1, 137215]) torch.Size([1, 67572])\n",
            "torch.Size([1, 137215]) torch.Size([1, 160000])\n",
            "torch.Size([1, 137215]) torch.Size([1, 76797])\n",
            "torch.Size([1, 137215]) torch.Size([1, 160000])\n",
            "torch.Size([1, 137215]) torch.Size([1, 78844])\n",
            "torch.Size([1, 137215]) torch.Size([1, 75747])\n",
            "torch.Size([1, 137215]) torch.Size([1, 160000])\n",
            "torch.Size([1, 137215]) torch.Size([1, 160000])\n",
            "torch.Size([1, 137215]) torch.Size([1, 75759])\n",
            "torch.Size([1, 137215]) torch.Size([1, 160000])\n",
            "torch.Size([1, 137215]) torch.Size([1, 69629])\n",
            "torch.Size([1, 137215]) torch.Size([1, 66560])\n",
            "torch.Size([1, 137215]) torch.Size([1, 102386])\n",
            "torch.Size([1, 137215]) torch.Size([1, 71679])\n",
            "torch.Size([1, 137215]) torch.Size([1, 74747])\n",
            "torch.Size([1, 137215]) torch.Size([1, 132096])\n",
            "torch.Size([1, 137215]) torch.Size([1, 64512])\n",
            "torch.Size([1, 137215]) torch.Size([1, 106496])\n",
            "torch.Size([1, 137215]) torch.Size([1, 131071])\n",
            "torch.Size([1, 137215]) torch.Size([1, 70656])\n",
            "torch.Size([1, 143360]) torch.Size([1, 67572])\n",
            "torch.Size([1, 143360]) torch.Size([1, 160000])\n",
            "torch.Size([1, 143360]) torch.Size([1, 76797])\n",
            "torch.Size([1, 143360]) torch.Size([1, 160000])\n",
            "torch.Size([1, 143360]) torch.Size([1, 78844])\n",
            "torch.Size([1, 143360]) torch.Size([1, 75747])\n",
            "torch.Size([1, 143360]) torch.Size([1, 160000])\n",
            "torch.Size([1, 143360]) torch.Size([1, 160000])\n",
            "torch.Size([1, 143360]) torch.Size([1, 75759])\n",
            "torch.Size([1, 143360]) torch.Size([1, 160000])\n",
            "torch.Size([1, 143360]) torch.Size([1, 69629])\n",
            "torch.Size([1, 143360]) torch.Size([1, 66560])\n",
            "torch.Size([1, 143360]) torch.Size([1, 102386])\n",
            "torch.Size([1, 143360]) torch.Size([1, 71679])\n",
            "torch.Size([1, 143360]) torch.Size([1, 74747])\n",
            "torch.Size([1, 143360]) torch.Size([1, 132096])\n",
            "torch.Size([1, 143360]) torch.Size([1, 64512])\n",
            "torch.Size([1, 143360]) torch.Size([1, 106496])\n",
            "torch.Size([1, 143360]) torch.Size([1, 131071])\n",
            "torch.Size([1, 143360]) torch.Size([1, 70656])\n",
            "torch.Size([1, 67571]) torch.Size([1, 67572])\n",
            "torch.Size([1, 67571]) torch.Size([1, 160000])\n",
            "torch.Size([1, 67571]) torch.Size([1, 76797])\n",
            "torch.Size([1, 67571]) torch.Size([1, 160000])\n",
            "torch.Size([1, 67571]) torch.Size([1, 78844])\n",
            "torch.Size([1, 67571]) torch.Size([1, 75747])\n",
            "torch.Size([1, 67571]) torch.Size([1, 160000])\n",
            "torch.Size([1, 67571]) torch.Size([1, 160000])\n",
            "torch.Size([1, 67571]) torch.Size([1, 75759])\n",
            "torch.Size([1, 67571]) torch.Size([1, 160000])\n",
            "torch.Size([1, 67571]) torch.Size([1, 69629])\n",
            "torch.Size([1, 67571]) torch.Size([1, 66560])\n",
            "torch.Size([1, 67571]) torch.Size([1, 102386])\n",
            "torch.Size([1, 67571]) torch.Size([1, 71679])\n",
            "torch.Size([1, 67571]) torch.Size([1, 74747])\n",
            "torch.Size([1, 67571]) torch.Size([1, 132096])\n",
            "torch.Size([1, 67571]) torch.Size([1, 64512])\n",
            "torch.Size([1, 67571]) torch.Size([1, 106496])\n",
            "torch.Size([1, 67571]) torch.Size([1, 131071])\n",
            "torch.Size([1, 67571]) torch.Size([1, 70656])\n"
          ]
        }
      ]
    },
    {
      "cell_type": "markdown",
      "source": [
        "create wav.scp file"
      ],
      "metadata": {
        "id": "jKrlqBKVm8qV"
      }
    },
    {
      "cell_type": "code",
      "source": [
        "\n",
        "# utt2spk\n",
        "import os\n",
        "data_path =\"/content/drive/MyDrive/Proposal_Files/Implementation/wavlm-app/my_vox_data_v2\"\n",
        "#os.chdir('spk004')\n",
        "enroll_wavscp = open(f\"{data_path}/enroll_wavscp_v1.txt\", \"a\")\n",
        "enroll_wavscp.truncate(0)\n",
        "test_wavscp = open(f\"{data_path}/test_wavscp_v1.txt\", \"a\")\n",
        "test_wavscp.truncate(0)\n",
        "#enroll_utt2spk = open(f\"enroll_utt2spk.txt\", \"a\")\n",
        "#enroll_utt2spk.truncate(0)\n",
        "#test_utt2spk = open(f\"test_utt2spk.txt\", \"a\")\n",
        "#test_utt2spk.truncate(0)\n",
        "#test_trials = open(f\"test_trials.txt\", \"a\")\n",
        "#test_trials.truncate(0)\n",
        "\n",
        "num_utt =6\n",
        "num_spk = 4\n",
        "for spk_id in range(1,num_spk+1):\n",
        "    for utt_id in range(1,num_utt+1):\n",
        "        cd_id = int((1+spk_id) / 2)\n",
        "        path = os.path.abspath(f\"{data_path}/{spk_id:03}/{spk_id:03}F{utt_id:02}.WAV\")\n",
        "        #ffmpeg_cmd = \"ffmpeg -ss 0 -i {file_path} -t 60 -f wav -ac 1 -ar 8k -acodec pcm_s16le - |\"\n",
        "        #extended_filename = ffmpeg_cmd.format(file_path = path)\n",
        "        path_cmd =\"{file_path}\"\n",
        "        extended_filename = path_cmd.format(file_path = path)\n",
        "        utterance_id = f\"utt-{spk_id:03}F{utt_id:02}\"\n",
        "        speaker_id = f\"spk-{spk_id:03}\"\n",
        "        #fmajor_wav_scp.write(f\"{utterance_id} {extended_filename}\\n\")    \n",
        "        #fmajor_utt2spk.write(f\"{utterance_id} {speaker_id}\\n\")  \n",
        "        if utt_id==1:\n",
        "            #fenroll_wav_scp.write(f\"{utterance_id} {extended_filename}\\n\") \n",
        "            enroll_wavscp.write(f\"{utterance_id} {extended_filename}\\n\")    \n",
        "            #enroll_utt2spk.write(f\"{utterance_id} {speaker_id}\\n\")  \n",
        "        else:\n",
        "            #ftest_wav_scp.write(f\"{utterance_id} {extended_filename}\\n\")  \n",
        "            test_wavscp.write(f\"{utterance_id} {extended_filename}\\n\")   \n",
        "            #test_utt2spk.write(f\"{utterance_id} {speaker_id}\\n\")\n",
        "            #for spk_id_trials in range(1,num_spk+1):\n",
        "               # for utt_id_trials in range(2,num_utt+1):\n",
        "                   # utterance_id_trials = f\"utt-{spk_id_trials:03}F{utt_id_trials:02}\"\n",
        "                   # test_trials.write(f\"{speaker_id} {utterance_id_trials} {'target' if spk_id_trials==spk_id else 'nontarget'}\\n\")\n",
        "\n",
        "\n",
        "#enroll_utt2spk.close()\n",
        "#test_utt2spk.close()\n",
        "#test_trials.close()\n",
        "test_wavscp.close()\n",
        "enroll_wavscp.close()\n",
        "\n",
        "\n"
      ],
      "metadata": {
        "id": "JQzWUVY6m5mr"
      },
      "execution_count": null,
      "outputs": []
    },
    {
      "cell_type": "markdown",
      "source": [
        "create scores in file"
      ],
      "metadata": {
        "id": "djI8hhaOt4Gg"
      }
    },
    {
      "cell_type": "code",
      "source": [
        "print(get_similarity_score(\"/content/drive/MyDrive/Proposal_Files/Implementation/wavlm-app/my_vox_data_v2/spk001/utt_001F01.wav\",\"/content/drive/MyDrive/Proposal_Files/Implementation/wavlm-app/my_vox_data_v2/spk002/utt_002F02.wav\"))"
      ],
      "metadata": {
        "colab": {
          "base_uri": "https://localhost:8080/"
        },
        "id": "yIbe5aOOxraL",
        "outputId": "83c6d82f-5a54-41e3-80d3-66c0e38f06aa"
      },
      "execution_count": null,
      "outputs": [
        {
          "output_type": "stream",
          "name": "stdout",
          "text": [
            "torch.Size([1, 110542]) torch.Size([1, 75747])\n",
            "0.8904583\n"
          ]
        }
      ]
    },
    {
      "cell_type": "code",
      "source": [
        "print(labels)"
      ],
      "metadata": {
        "colab": {
          "base_uri": "https://localhost:8080/"
        },
        "id": "dS4QRRuLXybW",
        "outputId": "ccd062b2-ed5e-4dee-f6fb-515561c56243"
      },
      "execution_count": null,
      "outputs": [
        {
          "output_type": "stream",
          "name": "stdout",
          "text": [
            "[1, 1, 1, 1, 1, 0, 0, 0, 0, 0, 0, 0, 0, 0, 0, 0, 0, 0, 0, 0, 0, 0, 0, 0, 0, 1, 1, 1, 1, 1, 0, 0, 0, 0, 0, 0, 0, 0, 0, 0, 0, 0, 0, 0, 0, 0, 0, 0, 0, 0, 1, 1, 1, 1, 1, 0, 0, 0, 0, 0, 0, 0, 0, 0, 0, 0, 0, 0, 0, 0, 0, 0, 0, 0, 0, 1, 1, 1, 1, 1]\n"
          ]
        }
      ]
    },
    {
      "cell_type": "code",
      "source": [
        "print(predictions)"
      ],
      "metadata": {
        "colab": {
          "base_uri": "https://localhost:8080/"
        },
        "id": "qvkBemEuX2E5",
        "outputId": "a04a4587-4c1e-4098-ee50-4227100a06a5"
      },
      "execution_count": null,
      "outputs": [
        {
          "output_type": "stream",
          "name": "stdout",
          "text": [
            "[0.98836035, 0.98402464, 0.99020565, 0.9879558, 0.97803056, 0.8904583, 0.87461686, 0.7997459, 0.8075437, 0.85189164, 0.518013, 0.3902642, 0.44134843, 0.40447345, 0.4193719, 0.86757237, 0.8458769, 0.8568024, 0.8359634, 0.77351636, 0.884343, 0.90785456, 0.8918041, 0.89818525, 0.8738456, 0.97500855, 0.9813192, 0.95017076, 0.94611245, 0.9750847, 0.6125076, 0.5566407, 0.58357185, 0.55036163, 0.5601927, 0.96368325, 0.9706617, 0.96392244, 0.96138924, 0.8684856, 0.43684113, 0.48994872, 0.4227484, 0.4200299, 0.5164896, 0.5808738, 0.6324014, 0.6135862, 0.6183951, 0.59164584, 0.978427, 0.9760932, 0.9780202, 0.9815458, 0.98670083, 0.5925865, 0.6523986, 0.6582704, 0.6711916, 0.6509311, 0.85218495, 0.8812409, 0.85321254, 0.85029715, 0.8414747, 0.956638, 0.9752766, 0.94073755, 0.934567, 0.9666983, 0.6612425, 0.6167853, 0.6431539, 0.6077437, 0.6193458, 0.9656308, 0.9643094, 0.97714305, 0.97644967, 0.9042121]\n"
          ]
        }
      ]
    },
    {
      "cell_type": "markdown",
      "source": [
        "python-compute-eer\n",
        "https://github.com/YuanGongND/python-compute-eer\n"
      ],
      "metadata": {
        "id": "yOM8G0oxhJ1W"
      }
    },
    {
      "cell_type": "code",
      "source": [
        "import numpy as np\n",
        "import sklearn.metrics\n",
        "\n",
        "\"\"\"\n",
        "Python compute equal error rate (eer)\n",
        "ONLY tested on binary classification\n",
        "\n",
        ":param label: ground-truth label, should be a 1-d list or np.array, each element represents the ground-truth label of one sample\n",
        ":param pred: model prediction, should be a 1-d list or np.array, each element represents the model prediction of one sample\n",
        ":param positive_label: the class that is viewed as positive class when computing EER\n",
        ":return: equal error rate (EER)\n",
        "\"\"\"\n",
        "def compute_eer(label, pred, positive_label=1):\n",
        "    # all fpr, tpr, fnr, fnr, threshold are lists (in the format of np.array)\n",
        "    #fpr, tpr, threshold = sklearn.metrics.roc_curve(label, pred, positive_label)\n",
        "    fpr, tpr, threshold = sklearn.metrics.roc_curve(label, pred)\n",
        "    fnr = 1 - tpr\n",
        "\n",
        "    # the threshold of fnr == fpr\n",
        "    eer_threshold = threshold[np.nanargmin(np.absolute((fnr - fpr)))]\n",
        "\n",
        "    # theoretically eer from fpr and eer from fnr should be identical but they can be slightly differ in reality\n",
        "    eer_1 = fpr[np.nanargmin(np.absolute((fnr - fpr)))]\n",
        "    eer_2 = fnr[np.nanargmin(np.absolute((fnr - fpr)))]\n",
        "\n",
        "    # return the mean of eer from fpr and from fnr\n",
        "    eer = (eer_1 + eer_2) / 2\n",
        "    return eer"
      ],
      "metadata": {
        "id": "zaeEySSqhLlU"
      },
      "execution_count": null,
      "outputs": []
    },
    {
      "cell_type": "code",
      "source": [
        "#from compute_eer import compute_eer\n",
        "label = [1, 1, 0, 0, 1]\n",
        "prediction = [0.3, 0.1, 0.4, 0.8, 0.9]\n",
        "eer = compute_eer(label, prediction)\n",
        "print('The equal error rate is {:.3f}'.format(eer))"
      ],
      "metadata": {
        "colab": {
          "base_uri": "https://localhost:8080/"
        },
        "id": "SHVudTICijDy",
        "outputId": "b50ff561-0d0d-41ed-cc64-e3080dd5201d"
      },
      "execution_count": null,
      "outputs": [
        {
          "output_type": "stream",
          "name": "stdout",
          "text": [
            "The equal error rate is 0.833\n"
          ]
        }
      ]
    },
    {
      "cell_type": "markdown",
      "source": [
        "compute my eer"
      ],
      "metadata": {
        "id": "VdZ3Np3uGENA"
      }
    },
    {
      "cell_type": "code",
      "source": [
        "eer = compute_eer(labels, predictions)\n",
        "print('The equal error rate is {:.3f}'.format(eer))"
      ],
      "metadata": {
        "colab": {
          "base_uri": "https://localhost:8080/"
        },
        "id": "VJLWbFGIGDcB",
        "outputId": "7b371741-3e0b-4345-ac25-e00d4cc41945"
      },
      "execution_count": null,
      "outputs": [
        {
          "output_type": "stream",
          "name": "stdout",
          "text": [
            "The equal error rate is 0.133\n"
          ]
        }
      ]
    },
    {
      "cell_type": "markdown",
      "source": [
        "#plot far,fpr,eer"
      ],
      "metadata": {
        "id": "rlGAUNzGHcc5"
      }
    },
    {
      "cell_type": "code",
      "source": [
        "import numpy as np\n",
        "import sklearn.metrics\n",
        "import matplotlib.pyplot as plt\n",
        "\"\"\"\n",
        "plot fpr,tpr,eer\n",
        "\"\"\"\n",
        "def plot_eer(label, pred, positive_label=1):\n",
        "    # all fpr, tpr, fnr, fnr, threshold are lists (in the format of np.array)\n",
        "    #fpr, tpr, threshold = sklearn.metrics.roc_curve(label, pred, positive_label)\n",
        "    fpr, tpr, threshold = sklearn.metrics.roc_curve(label, pred)\n",
        "\n",
        "    far = np.array(fpr)\n",
        "    print('FAR: ',far)\n",
        "    print('-----------------------------------------------------------')\n",
        "\n",
        "    fnr = 1 - tpr\n",
        "\n",
        "    frr = np.array(fnr)\n",
        "    print('FRR: ',frr)\n",
        "    print('-----------------------------------------------------------')\n",
        "\n",
        "    # the threshold of fnr == fpr\n",
        "    eer_threshold = threshold[np.nanargmin(np.absolute((fnr - fpr)))]\n",
        "\n",
        "    # theoretically eer from fpr and eer from fnr should be identical but they can be slightly differ in reality\n",
        "    eer_1 = fpr[np.nanargmin(np.absolute((fnr - fpr)))]\n",
        "    eer_2 = fnr[np.nanargmin(np.absolute((fnr - fpr)))]\n",
        "\n",
        "    # return the mean of eer from fpr and from fnr\n",
        "    eer = (eer_1 + eer_2) / 2\n",
        "\n",
        "    plt.plot(threshold,frr,'--b')\n",
        "    plt.xlabel('threshold')\n",
        "    plt.title('FRR')\n",
        "    plt.axis([0.0, 1.0, 0, 1.0])\n",
        "    #plt.axis([0.0, 1.0, 0.0, 100.0])\n",
        "    plt.show()\n",
        "\n",
        "    plt.plot(threshold,far,'--r')\n",
        "    plt.xlabel('threshold')\n",
        "    plt.title('FAR')\n",
        "    plt.axis([0.0, 1.0, 0.0, 1.0])\n",
        "    #plt.axis([0.0, 1.0, 0.0, 100.0])\n",
        "    plt.show()\n",
        "\n",
        "    return eer"
      ],
      "metadata": {
        "id": "SQKRQam6HjYj"
      },
      "execution_count": null,
      "outputs": []
    },
    {
      "cell_type": "markdown",
      "source": [
        "#eer_scikit_learn"
      ],
      "metadata": {
        "id": "07lx78ruYdPH"
      }
    },
    {
      "cell_type": "code",
      "source": [
        "eer = plot_eer(labels, predictions)\n",
        "print('The equal error rate is {:.3f}'.format(eer))"
      ],
      "metadata": {
        "colab": {
          "base_uri": "https://localhost:8080/",
          "height": 675
        },
        "id": "-HLMIlQJJfQS",
        "outputId": "b34a9c85-1d0c-4529-e4fa-90f7a93b700f"
      },
      "execution_count": null,
      "outputs": [
        {
          "output_type": "stream",
          "name": "stdout",
          "text": [
            "FAR:  [0.         0.         0.         0.01666667 0.01666667 0.05\n",
            " 0.05       0.11666667 0.11666667 0.16666667 0.16666667 1.        ]\n",
            "-----------------------------------------------------------\n",
            "FRR:  [1.   0.95 0.35 0.35 0.25 0.25 0.15 0.15 0.05 0.05 0.   0.  ]\n",
            "-----------------------------------------------------------\n"
          ]
        },
        {
          "output_type": "display_data",
          "data": {
            "image/png": "[encoded data removed]",
            "text/plain": [
              "<Figure size 432x288 with 1 Axes>"
            ]
          },
          "metadata": {
            "needs_background": "light"
          }
        },
        {
          "output_type": "display_data",
          "data": {
            "image/png": "[encoded data removed]",
            "text/plain": [
              "<Figure size 432x288 with 1 Axes>"
            ]
          },
          "metadata": {
            "needs_background": "light"
          }
        },
        {
          "output_type": "stream",
          "name": "stdout",
          "text": [
            "The equal error rate is 0.133\n"
          ]
        }
      ]
    },
    {
      "cell_type": "markdown",
      "source": [
        "#Eval_metrics :\n",
        "https://github.com/Wenhao-Yang/SpeakerVerifiaction-pytorch/blob/master/Eval/eval_metrics.py\n"
      ],
      "metadata": {
        "id": "A_85i_lZPKKm"
      }
    },
    {
      "cell_type": "code",
      "source": [
        "import os\n",
        "from operator import itemgetter\n",
        "import pandas as pd\n",
        "import matplotlib.pyplot as plt\n",
        "import numpy as np\n",
        "from scipy import interpolate\n",
        "from scipy.stats import norm"
      ],
      "metadata": {
        "id": "kZ4aaeO2PkZ4"
      },
      "execution_count": null,
      "outputs": []
    },
    {
      "cell_type": "code",
      "source": [
        "def calculate_roc(thresholds, distances, labels):\n",
        "\n",
        "    nrof_pairs = min(len(labels), len(distances))\n",
        "    nrof_thresholds = len(thresholds)\n",
        "\n",
        "    tprs = np.zeros((nrof_thresholds))\n",
        "    fprs = np.zeros((nrof_thresholds))\n",
        "    acc_train = np.zeros((nrof_thresholds))\n",
        "    accuracy = 0.0\n",
        "\n",
        "    indices = np.arange(nrof_pairs)\n",
        "\n",
        "    # Find the best threshold for the fold\n",
        "\n",
        "    for threshold_idx, threshold in enumerate(thresholds):\n",
        "        tprs[threshold_idx], fprs[threshold_idx], acc_train[threshold_idx] = calculate_accuracy(threshold, distances, labels)\n",
        "    best_threshold_index = np.argmax(acc_train)\n",
        "\n",
        "    return tprs[best_threshold_index], fprs[best_threshold_index], acc_train[best_threshold_index]"
      ],
      "metadata": {
        "id": "ci4Yr6AuRPSQ"
      },
      "execution_count": null,
      "outputs": []
    },
    {
      "cell_type": "code",
      "source": [
        "#change dist.size\n",
        "def calculate_accuracy(threshold, dist, actual_issame):\n",
        "    predict_issame = np.less(dist, threshold)\n",
        "    tp = np.sum(np.logical_and(predict_issame, actual_issame))\n",
        "    fp = np.sum(np.logical_and(predict_issame, np.logical_not(actual_issame)))\n",
        "    tn = np.sum(np.logical_and(np.logical_not(predict_issame), np.logical_not(actual_issame)))\n",
        "    fn = np.sum(np.logical_and(np.logical_not(predict_issame), actual_issame))\n",
        "\n",
        "    tpr = 0 if (tp+fn==0) else float(tp) / float(tp+fn)\n",
        "    fpr = 0 if (fp+tn==0) else float(fp) / float(fp+tn)\n",
        "    #fnr = 0 if (tp+fn==0) else float(fn) / float(tp+fn)\n",
        "\n",
        "    #acc = float(tp+tn)/dist.size\n",
        "    acc = float(tp+tn)/len(dist)\n",
        "    return tpr, fpr, acc"
      ],
      "metadata": {
        "id": "B7nZedpCRUhE"
      },
      "execution_count": null,
      "outputs": []
    },
    {
      "cell_type": "code",
      "source": [
        "def calculate_eer(thresholds, distances, labels):\n",
        "\n",
        "    nrof_pairs = min(len(labels), len(distances))\n",
        "    nrof_thresholds = len(thresholds)\n",
        "\n",
        "    tprs = np.zeros((nrof_thresholds))\n",
        "    fprs = np.zeros((nrof_thresholds))\n",
        "    fnrs = np.zeros((nrof_thresholds))\n",
        "    acc_train = np.zeros((nrof_thresholds))\n",
        "    accuracy = 0.0\n",
        "\n",
        "    indices = np.arange(nrof_pairs)\n",
        "\n",
        "    # Find the threshold where fnr=fpr for the fold\n",
        "    # Todo: And the highest accuracy??\n",
        "    eer_index = 0\n",
        "    fpr_fnr = 1.0\n",
        "    for threshold_idx, threshold in enumerate(thresholds):\n",
        "        tprs[threshold_idx], fprs[threshold_idx], fnrs[threshold_idx], acc_train[threshold_idx] = calculate_eer_accuracy(threshold, distances, labels)\n",
        "        if np.abs(fprs[threshold_idx]-fnrs[threshold_idx])<fpr_fnr:\n",
        "            eer_index = threshold_idx\n",
        "            fpr_fnr = np.abs(fprs[threshold_idx]-fnrs[threshold_idx])\n",
        "\n",
        "    #print(\"Threshold for the eer is {}.\".format(thresholds[eer_index]))\n",
        "    return  fnrs[eer_index], acc_train[eer_index]"
      ],
      "metadata": {
        "id": "negeL-PyRiNt"
      },
      "execution_count": null,
      "outputs": []
    },
    {
      "cell_type": "code",
      "source": [
        "def calculate_eer_accuracy(threshold, dist, actual_issame):\n",
        "    predict_issame = np.greater(dist, threshold)\n",
        "    tp = np.sum(np.logical_and(predict_issame, actual_issame))\n",
        "    fp = np.sum(np.logical_and(predict_issame, np.logical_not(actual_issame)))\n",
        "    tn = np.sum(np.logical_and(np.logical_not(predict_issame), np.logical_not(actual_issame)))\n",
        "    fn = np.sum(np.logical_and(np.logical_not(predict_issame), actual_issame))\n",
        "\n",
        "    tpr = 0 if (tp + fn == 0) else float(tp) / float(tp + fn)\n",
        "    fpr = 0 if (fp + tn == 0) else float(fp) / float(fp + tn)\n",
        "\n",
        "    fnr = 0 if (tp + fn == 0) else float(fn) / float(tp + fn)\n",
        "\n",
        "    acc = float(tp + tn) / dist.size\n",
        "    return tpr, fpr, fnr, acc"
      ],
      "metadata": {
        "id": "04VAShspRmK_"
      },
      "execution_count": null,
      "outputs": []
    },
    {
      "cell_type": "code",
      "source": [
        "def calculate_val(thresholds, distances, labels, far_target=0.1):\n",
        "    nrof_pairs = min(len(labels), len(distances))\n",
        "    nrof_thresholds = len(thresholds)\n",
        "\n",
        "    indices = np.arange(nrof_pairs)\n",
        "\n",
        "    # Find the threshold that gives FAR = far_target\n",
        "    far_train = np.zeros(nrof_thresholds)\n",
        "\n",
        "    for threshold_idx, threshold in enumerate(thresholds):\n",
        "        _, far_train[threshold_idx] = calculate_val_far(threshold, distances, labels)\n",
        "    if np.max(far_train)>=far_target:\n",
        "        f = interpolate.interp1d(far_train, thresholds, kind='slinear')\n",
        "        threshold = f(far_target)\n",
        "    else:\n",
        "        threshold = 0.0\n",
        "\n",
        "    val, far = calculate_val_far(threshold, distances, labels)\n",
        "\n",
        "    return val, far"
      ],
      "metadata": {
        "id": "3BR9d_z6RqlG"
      },
      "execution_count": null,
      "outputs": []
    },
    {
      "cell_type": "code",
      "source": [
        "def calculate_val_far(threshold, dist, actual_issame):\n",
        "    predict_issame = np.less(dist, threshold)\n",
        "    true_accept = np.sum(np.logical_and(predict_issame, actual_issame))\n",
        "    false_accept = np.sum(np.logical_and(predict_issame, np.logical_not(actual_issame)))\n",
        "    n_same = np.sum(actual_issame)\n",
        "    n_diff = np.sum(np.logical_not(actual_issame))\n",
        "    if n_diff == 0:\n",
        "        n_diff = 1\n",
        "    if n_same == 0:\n",
        "        return 0,0\n",
        "    val = float(true_accept) / float(n_same)\n",
        "    far = float(false_accept) / float(n_diff)\n",
        "    return val, far"
      ],
      "metadata": {
        "id": "jNOY4VqkRuKE"
      },
      "execution_count": null,
      "outputs": []
    },
    {
      "cell_type": "code",
      "source": [
        "def evaluate_kaldi_eer(distances, labels, cos=True, re_thre=False):\n",
        "    \"\"\"\n",
        "    The distance score should be larger when two samples are more similar.\n",
        "    :param distances:\n",
        "    :param labels:\n",
        "    :param cos:\n",
        "    :return:\n",
        "    \"\"\"\n",
        "    # split the target and non-target distance array\n",
        "    target = []\n",
        "    non_target = []\n",
        "    new_distances = []\n",
        "\n",
        "    for (distance, label) in zip(distances, labels):\n",
        "        if not cos:\n",
        "            distance = -distance\n",
        "\n",
        "        new_distances.append(-distance)\n",
        "        if label:\n",
        "            target.append(distance)\n",
        "        else:\n",
        "            non_target.append(distance)\n",
        "\n",
        "    new_distances = np.array(new_distances)\n",
        "    target = np.sort(target)\n",
        "    non_target = np.sort(non_target)\n",
        "\n",
        "    target_size = target.size\n",
        "    nontarget_size = non_target.size\n",
        "    # pdb.set_trace()\n",
        "    target_position = 0\n",
        "    while target_position + 1 < target_size:\n",
        "        # for target_position in range(target_size):\n",
        "        nontarget_n = nontarget_size * target_position * 1.0 / target_size\n",
        "        nontarget_position = int(nontarget_size - 1 - nontarget_n)\n",
        "\n",
        "        if (nontarget_position < 0):\n",
        "            nontarget_position = 0\n",
        "        # The exceptions from non targets are samples where cosine score is > the target score\n",
        "        # if (non_target[nontarget_position] <= target[target_position]):\n",
        "        #     break\n",
        "        if (non_target[nontarget_position] < target[target_position]):\n",
        "            # print('target[{}]={} is < non_target[{}]={}.'.format(target_position, target[target_position], nontarget_position, non_target[nontarget_position]))\n",
        "            break\n",
        "        target_position += 1\n",
        "\n",
        "    eer_threshold = target[target_position]\n",
        "    eer = target_position * 1.0 / target_size\n",
        "\n",
        "    # max_threshold = np.max(distances)\n",
        "    # thresholds = np.arange(0, max_threshold, 0.001)\n",
        "    thresholds = np.sort(np.unique(target))\n",
        "    tpr, fpr, best_accuracy = calculate_roc(thresholds, new_distances, labels)\n",
        "\n",
        "    # return eer threshold.\n",
        "    if re_thre:\n",
        "        return eer, eer_threshold, best_accuracy\n",
        "    return eer, best_accuracy"
      ],
      "metadata": {
        "id": "Pnxq3SShR0Gn"
      },
      "execution_count": null,
      "outputs": []
    },
    {
      "cell_type": "code",
      "source": [
        "def evaluate(distances, labels):\n",
        "    # Calculate evaluation metrics\n",
        "    thresholds = np.arange(0, 30, 0.01)\n",
        "    tpr, fpr, accuracy = calculate_roc(thresholds, distances,\n",
        "        labels)\n",
        "\n",
        "    thresholds = np.arange(0, 30, 0.001)\n",
        "    val,  far = calculate_val(thresholds, distances,\n",
        "        labels, 1e-3)\n",
        "\n",
        "    return tpr, fpr, accuracy, val,  far"
      ],
      "metadata": {
        "id": "ai_fnsuGQB1V"
      },
      "execution_count": null,
      "outputs": []
    },
    {
      "cell_type": "code",
      "source": [
        "# Creates a list of false-negative rates, a list of false-positive rates\n",
        "# and a list of decision thresholds that give those error-rates.\n",
        "def ComputeErrorRates(scores, labels):\n",
        "    # Sort the scores from smallest to largest, and also get the corresponding\n",
        "    # indexes of the sorted scores.  We will treat the sorted scores as the\n",
        "    # thresholds at which the the error-rates are evaluated.\n",
        "    sorted_indexes, thresholds = zip(*sorted([(index, threshold) for index, threshold in enumerate(scores)],\n",
        "                                             key=itemgetter(1)))\n",
        "    sorted_labels = []\n",
        "    labels = [int(labels[i]) for i in sorted_indexes]\n",
        "    fnrs = []  # 小于阈值的正例数目\n",
        "    fprs = []  # 小于阈值的反例数目\n",
        "\n",
        "    # At the end of this loop, fnrs[i] is the number of errors made by\n",
        "    # incorrectly rejecting scores less than thresholds[i]. And, fprs[i]\n",
        "    # is the total number of times that we have correctly accepted scores\n",
        "    # greater than thresholds[i].\n",
        "    for i in range(0, len(labels)):\n",
        "        if i == 0:\n",
        "            fnrs.append(labels[i])\n",
        "            fprs.append(1 - labels[i])\n",
        "        else:\n",
        "            fnrs.append(fnrs[i - 1] + labels[i])\n",
        "            fprs.append(fprs[i - 1] + 1 - labels[i])\n",
        "\n",
        "    fnrs_norm = sum(labels)  # 样本中的正例数目\n",
        "    fprs_norm = len(labels) - fnrs_norm  # 样本中的反例数目\n",
        "\n",
        "    # Now divide by the total number of false negative errors to obtain the false positive rates across all thresholds.\n",
        "    # 小于阈值而被认为是反例的正例在所有正例的样本比重\n",
        "    fnrs = [x / float(fnrs_norm) for x in fnrs]\n",
        "\n",
        "    # Divide by the total number of corret positives to get the true positive rate.\n",
        "    # Subtract these quantities from 1 to get the false positive rates.\n",
        "    # 大于阈值而被认为是正例的反例在所有反例中的样本比重\n",
        "\n",
        "    fprs = [1 - x / float(fprs_norm) for x in fprs]\n",
        "\n",
        "    return fnrs, fprs, thresholds"
      ],
      "metadata": {
        "id": "YXXZOjWXSGGN"
      },
      "execution_count": null,
      "outputs": []
    },
    {
      "cell_type": "code",
      "source": [
        "# Computes the minimum of the detection cost function.  The comments refer to\n",
        "# equations in Section 3 of the NIST 2016 Speaker Recognition Evaluation Plan.\n",
        "def ComputeMinDcf(fnrs, fprs, thresholds, p_target, c_miss, c_fa):\n",
        "    \"\"\"\n",
        "    :param fnrs: 正例的错误拒绝率\n",
        "    :param fprs: 反例的错误接受率\n",
        "    :param thresholds: 判断的阈值\n",
        "    :param p_target: a priori probability of the specified target speaker\n",
        "    :param c_miss: cost of a missed detection 遗漏正例的损失值\n",
        "    :param c_fa: cost of a spurious detection 错误接受的损失值\n",
        "    :return:\n",
        "    \"\"\"\n",
        "    min_c_det = float(\"inf\")\n",
        "    min_c_det_threshold = thresholds[0]\n",
        "    for i in range(0, len(fnrs)):\n",
        "        # See Equation (2).  it is a weighted sum of false negative\n",
        "        # and false positive errors.\n",
        "        c_det = c_miss * fnrs[i] * p_target + c_fa * fprs[i] * (1 - p_target)\n",
        "        if c_det < min_c_det:\n",
        "            # 找到最小的det值\n",
        "            min_c_det = c_det\n",
        "            min_c_det_threshold = thresholds[i]\n",
        "    # See Equations (3) and (4).  Now we normalize the cost.\n",
        "    c_def = min(c_miss * p_target, c_fa * (1 - p_target))\n",
        "    min_dcf = min_c_det / c_def\n",
        "    return min_dcf, min_c_det_threshold"
      ],
      "metadata": {
        "id": "vSAw54I1VVVH"
      },
      "execution_count": null,
      "outputs": []
    },
    {
      "cell_type": "code",
      "source": [
        "def evaluate_kaldi_mindcf(scores, labels, return_threshold=False):\n",
        "    c_miss = 1\n",
        "    c_fa = 1\n",
        "    labels = [int(x) for x in labels]\n",
        "    fnrs, fprs, thresholds = ComputeErrorRates(scores, labels)\n",
        "\n",
        "    p_target = 0.01\n",
        "    mindcf_01, threshold_01 = ComputeMinDcf(fnrs, fprs, thresholds, p_target, c_miss, c_fa)\n",
        "\n",
        "    p_target = 0.001\n",
        "    mindcf_001, threshold_001 = ComputeMinDcf(fnrs, fprs, thresholds, p_target, c_miss, c_fa)\n",
        "\n",
        "    if return_threshold:\n",
        "        return (mindcf_01, threshold_01, mindcf_001, threshold_001)\n",
        "\n",
        "    return mindcf_01, mindcf_001"
      ],
      "metadata": {
        "id": "kPevWnkjVa99"
      },
      "execution_count": null,
      "outputs": []
    },
    {
      "cell_type": "code",
      "source": [
        "tpr, fpr, accuracy, val,  far = evaluate(labels, predictions)\n",
        "print('The tpr is {:.3f}'.format(tpr))\n",
        "print('The fpr is {:.3f}'.format(fpr))\n",
        "print('The accuracy is {:.3f}'.format(accuracy))\n",
        "print('The val is {:.3f}'.format(val))\n",
        "print('The far is {:.3f}'.format(far))"
      ],
      "metadata": {
        "colab": {
          "base_uri": "https://localhost:8080/"
        },
        "id": "C6ictEmbQHo1",
        "outputId": "f89d9ce4-c889-4204-9b7b-e2f39b0446ef"
      },
      "execution_count": null,
      "outputs": [
        {
          "output_type": "stream",
          "name": "stdout",
          "text": [
            "The tpr is 1.000\n",
            "The fpr is 0.000\n",
            "The accuracy is 1.000\n",
            "The val is 0.000\n",
            "The far is 0.000\n"
          ]
        }
      ]
    },
    {
      "cell_type": "code",
      "source": [
        "ComputeErrorRates(labels, predictions)"
      ],
      "metadata": {
        "id": "_Nxl035JXAdj"
      },
      "execution_count": null,
      "outputs": []
    },
    {
      "cell_type": "markdown",
      "source": [
        "#evaluate_kaldi_eer"
      ],
      "metadata": {
        "id": "7TgtbX9EXriz"
      }
    },
    {
      "cell_type": "code",
      "source": [
        "eer1, best_accuracy1 = evaluate_kaldi_eer(predictions, labels, cos=True, re_thre=False)\n",
        "print('The eer is {:.3f}'.format(eer1))\n",
        "print('The best_accuracy is {:.3f}'.format(best_accuracy1))"
      ],
      "metadata": {
        "colab": {
          "base_uri": "https://localhost:8080/"
        },
        "id": "GE_Z3s7zXTUB",
        "outputId": "b4d0d66d-05c3-4aa1-ffe3-c56ede8bfdd7"
      },
      "execution_count": null,
      "outputs": [
        {
          "output_type": "stream",
          "name": "stdout",
          "text": [
            "The eer is 0.150\n",
            "The best_accuracy is 0.250\n"
          ]
        }
      ]
    },
    {
      "cell_type": "markdown",
      "source": [
        "#end of this code"
      ],
      "metadata": {
        "id": "OD5E9PnTXzKx"
      }
    },
    {
      "cell_type": "markdown",
      "source": [],
      "metadata": {
        "id": "8kMVTtetXzT3"
      }
    },
    {
      "cell_type": "markdown",
      "source": [],
      "metadata": {
        "id": "4fb6aai6Xzdo"
      }
    },
    {
      "cell_type": "markdown",
      "source": [
        "read labels and predictions"
      ],
      "metadata": {
        "id": "tHD9KvW23odY"
      }
    },
    {
      "cell_type": "code",
      "source": [
        "\n",
        "import os\n",
        "data_path =\"/content/drive/MyDrive/Proposal_Files/Implementation/wavlm-app/my_vox_data_v2\"\n",
        "scores = open(f\"{data_path}/scores.txt\", \"r\")\n",
        "scores.truncate(0)\n",
        "test_trials = open(f\"test_trials.txt\", \"a\")\n",
        "test_trials.truncate(0)"
      ],
      "metadata": {
        "id": "y_qPiR323HGn"
      },
      "execution_count": null,
      "outputs": []
    },
    {
      "cell_type": "code",
      "source": [
        "print(similarity_fn('/content/drive/MyDrive/Proposal_Files/Implementation/wavlm-app/download.wav','/content/drive/MyDrive/Proposal_Files/Implementation/wavlm-app/download.wav'))"
      ],
      "metadata": {
        "colab": {
          "base_uri": "https://localhost:8080/"
        },
        "id": "FoV7FGEI-KLs",
        "outputId": "00e0be82-ea95-4b47-facb-4fb41f738d57"
      },
      "execution_count": null,
      "outputs": [
        {
          "output_type": "stream",
          "name": "stdout",
          "text": [
            "torch.Size([1, 45820]) torch.Size([1, 45820])\n",
            "100.0\n"
          ]
        }
      ]
    },
    {
      "cell_type": "code",
      "source": [
        "print(similarity_fn('/content/drive/MyDrive/Proposal_Files/Implementation/wavlm-app/download.wav','/content/drive/MyDrive/Proposal_Files/Implementation/wavlm-app/download2.wav'))"
      ],
      "metadata": {
        "colab": {
          "base_uri": "https://localhost:8080/"
        },
        "id": "nMXMZttC_KIt",
        "outputId": "caf1c10e-2fd5-4581-f89a-1c35b7d9dd6d"
      },
      "execution_count": null,
      "outputs": [
        {
          "output_type": "stream",
          "name": "stdout",
          "text": [
            "torch.Size([1, 45820]) torch.Size([1, 43206])\n",
            "74.45922493934631\n"
          ]
        }
      ]
    },
    {
      "cell_type": "code",
      "source": [
        "print(similarity_fn('/content/drive/MyDrive/Proposal_Files/Implementation/wavlm-app/mehdi-v1-1.wav','/content/drive/MyDrive/Proposal_Files/Implementation/wavlm-app/mehdi-v1-2.wav'))"
      ],
      "metadata": {
        "colab": {
          "base_uri": "https://localhost:8080/"
        },
        "id": "uL0dI3JOCM7U",
        "outputId": "479b219c-ea3a-48d1-ff2f-7b7740b79668"
      },
      "execution_count": null,
      "outputs": [
        {
          "output_type": "stream",
          "name": "stdout",
          "text": [
            "torch.Size([1, 44954]) torch.Size([1, 54551])\n",
            "97.22150564193726\n"
          ]
        }
      ]
    },
    {
      "cell_type": "code",
      "source": [
        "print(similarity_fn('/content/drive/MyDrive/Proposal_Files/Implementation/wavlm-app/mehdi-v1-1.wav','/content/drive/MyDrive/Proposal_Files/Implementation/wavlm-app/mehdi-v1-2.wav'))"
      ],
      "metadata": {
        "colab": {
          "base_uri": "https://localhost:8080/"
        },
        "id": "PAWAFxd4Ca5S",
        "outputId": "faf64eae-b3e1-40fd-d053-0be65181a448"
      },
      "execution_count": null,
      "outputs": [
        {
          "output_type": "stream",
          "name": "stdout",
          "text": [
            "torch.Size([1, 44954]) torch.Size([1, 54551])\n",
            "True\n"
          ]
        }
      ]
    },
    {
      "cell_type": "code",
      "source": [
        "print(similarity_fn('/content/drive/MyDrive/Proposal_Files/Implementation/wavlm-app/mehdi1.wav','/content/drive/MyDrive/Proposal_Files/Implementation/wavlm-app/mehdi2.wav'))"
      ],
      "metadata": {
        "colab": {
          "base_uri": "https://localhost:8080/"
        },
        "id": "RS7W6feWEmj7",
        "outputId": "9a60505e-20be-4a23-fd30-0287ad8df45c"
      },
      "execution_count": null,
      "outputs": [
        {
          "output_type": "stream",
          "name": "stdout",
          "text": [
            "torch.Size([1, 51345]) torch.Size([1, 47248])\n",
            "True\n"
          ]
        }
      ]
    },
    {
      "cell_type": "code",
      "source": [
        "print(similarity_fn('/content/drive/MyDrive/Proposal_Files/Implementation/wavlm-app/download.wav','/content/drive/MyDrive/Proposal_Files/Implementation/wavlm-app/mehdi2.wav'))"
      ],
      "metadata": {
        "id": "HtDyCzD1Ez-b",
        "outputId": "7f23b17c-99ba-47ba-cf67-05634633bfcc",
        "colab": {
          "base_uri": "https://localhost:8080/"
        }
      },
      "execution_count": null,
      "outputs": [
        {
          "output_type": "stream",
          "name": "stdout",
          "text": [
            "torch.Size([1, 45820]) torch.Size([1, 47248])\n",
            "False\n"
          ]
        }
      ]
    },
    {
      "cell_type": "code",
      "source": [
        "inputs = [\n",
        "    gr.inputs.Audio(source=\"microphone\", type=\"filepath\", optional=True, label=\"Speaker #1\"),\n",
        "    gr.inputs.Audio(source=\"microphone\", type=\"filepath\", optional=True, label=\"Speaker #2\"),\n",
        "]\n",
        "output = gr.outputs.HTML(label=\"\")"
      ],
      "metadata": {
        "id": "3oR1X-QW-qiP"
      },
      "execution_count": null,
      "outputs": []
    }
  ]
}